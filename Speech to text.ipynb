{
 "cells": [
  {
   "cell_type": "code",
   "execution_count": 1,
   "id": "2eb27453",
   "metadata": {},
   "outputs": [],
   "source": [
    "import requests"
   ]
  },
  {
   "cell_type": "code",
   "execution_count": 18,
   "id": "afcd0846",
   "metadata": {},
   "outputs": [
    {
     "name": "stdout",
     "output_type": "stream",
     "text": [
      "./self_data/16000_pcm_speeches1/audio/PhamMinhQuan/PhamMinhQuan_DangCongNhat_0.wav\n"
     ]
    }
   ],
   "source": [
    "##upload\n",
    "filename = \"./self_data/16000_pcm_speeches1/audio/PhamMinhQuan/PhamMinhQuan_DangCongNhat_0.wav\"\n",
    "print(filename)\n",
    "upload_endpoint = \"https://api.assemblyai.com/v2/upload\"\n",
    "transcribe_endpoint = \"https://api.assemblyai.com/v2/transcript\"\n",
    "\n",
    "headers = {'authorization': \"d7b7d86db451463980004aa0f2ee9bf5\"}\n",
    "def upload():\n",
    "    def read_file(filename, chunk_size=5242880):\n",
    "        with open(filename, 'rb') as _file:\n",
    "            while True:\n",
    "                data = _file.read(chunk_size)\n",
    "                if not data:\n",
    "                    break\n",
    "                yield data\n",
    "\n",
    "   \n",
    "    upload_response = requests.post(upload_endpoint,\n",
    "                            headers=headers,\n",
    "                            data=read_file(filename))\n",
    "    audio_url = upload_response.json()['upload_url']\n",
    "    return audio_url"
   ]
  },
  {
   "cell_type": "code",
   "execution_count": 19,
   "id": "c9dcfd36",
   "metadata": {},
   "outputs": [],
   "source": [
    "##transcribe\n",
    "def transcribe(audio_url):\n",
    "    transcript_request = { \"audio_url\": audio_url }\n",
    "    transcript_response = requests.post(transcribe_endpoint, json=transcript_request, headers=headers)\n",
    "    job_id = transcript_response.json()['id']\n",
    "    return job_id"
   ]
  },
  {
   "cell_type": "code",
   "execution_count": 20,
   "id": "69e4c175",
   "metadata": {},
   "outputs": [
    {
     "ename": "TypeError",
     "evalue": "upload() takes 0 positional arguments but 1 was given",
     "output_type": "error",
     "traceback": [
      "\u001b[1;31m---------------------------------------------------------------------------\u001b[0m",
      "\u001b[1;31mTypeError\u001b[0m                                 Traceback (most recent call last)",
      "Cell \u001b[1;32mIn[20], line 1\u001b[0m\n\u001b[1;32m----> 1\u001b[0m audio_url \u001b[38;5;241m=\u001b[39m \u001b[43mupload\u001b[49m\u001b[43m(\u001b[49m\u001b[43mfilename\u001b[49m\u001b[43m)\u001b[49m\n\u001b[0;32m      2\u001b[0m job_id \u001b[38;5;241m=\u001b[39m transcribe(audio_url)\n\u001b[0;32m      3\u001b[0m \u001b[38;5;28mprint\u001b[39m(job_id)\n",
      "\u001b[1;31mTypeError\u001b[0m: upload() takes 0 positional arguments but 1 was given"
     ]
    }
   ],
   "source": [
    "audio_url = upload(filename)\n",
    "job_id = transcribe(audio_url)\n",
    "print(job_id)"
   ]
  },
  {
   "cell_type": "code",
   "execution_count": null,
   "id": "e3e89604",
   "metadata": {},
   "outputs": [],
   "source": []
  }
 ],
 "metadata": {
  "kernelspec": {
   "display_name": "Python 3 (ipykernel)",
   "language": "python",
   "name": "python3"
  },
  "language_info": {
   "codemirror_mode": {
    "name": "ipython",
    "version": 3
   },
   "file_extension": ".py",
   "mimetype": "text/x-python",
   "name": "python",
   "nbconvert_exporter": "python",
   "pygments_lexer": "ipython3",
   "version": "3.10.9"
  }
 },
 "nbformat": 4,
 "nbformat_minor": 5
}
